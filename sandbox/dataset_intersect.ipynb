{
 "cells": [
  {
   "cell_type": "code",
   "execution_count": 7,
   "id": "ab6a9867",
   "metadata": {},
   "outputs": [],
   "source": [
    "import dask.dataframe as dd\n",
    "from pathlib import Path\n",
    "import dask\n",
    "from dask.distributed import Client"
   ]
  },
  {
   "cell_type": "code",
   "execution_count": 5,
   "id": "547f40a6",
   "metadata": {},
   "outputs": [
    {
     "name": "stdout",
     "output_type": "stream",
     "text": [
      "config:\n",
      "  pubchem Parquet: \tpubchem_compounds.parquet.dask\n",
      "  drugspacex Parquet: \tdrugspacex.parquet.dask\n"
     ]
    }
   ],
   "source": [
    "# --- Конфигурация путей ---\n",
    "DATA_DIR_PUBCH = Path(\"../data/pubchem_compounds.parquet.dask\")\n",
    "DATA_DIR_DRUGS = Path(\"../data/drugspacex.parquet.dask\")\n",
    "\n",
    "\n",
    "print(\"config:\")\n",
    "print(f\"  pubchem Parquet: \\t{DATA_DIR_PUBCH.name}\")\n",
    "print(f\"  drugspacex Parquet: \\t{DATA_DIR_DRUGS.name}\")"
   ]
  },
  {
   "cell_type": "code",
   "execution_count": 8,
   "id": "0e62b01d",
   "metadata": {},
   "outputs": [
    {
     "name": "stdout",
     "output_type": "stream",
     "text": [
      "Dask dashboard link: http://127.0.0.1:8787/status\n"
     ]
    }
   ],
   "source": [
    "# --- Шаг 0: Настройка Dask (Рекомендуется) ---\n",
    "# Это запустит локальный кластер на вашей машине, что даст прирост производительности\n",
    "# и хороший дашборд для мониторинга по адресу http://127.0.0.1:8787/status\n",
    "client = Client()\n",
    "print(f\"Dask dashboard link: {client.dashboard_link}\")"
   ]
  }
 ],
 "metadata": {
  "kernelspec": {
   "display_name": "xformer-py3.11",
   "language": "python",
   "name": "python3"
  },
  "language_info": {
   "codemirror_mode": {
    "name": "ipython",
    "version": 3
   },
   "file_extension": ".py",
   "mimetype": "text/x-python",
   "name": "python",
   "nbconvert_exporter": "python",
   "pygments_lexer": "ipython3",
   "version": "3.11.13"
  }
 },
 "nbformat": 4,
 "nbformat_minor": 5
}
