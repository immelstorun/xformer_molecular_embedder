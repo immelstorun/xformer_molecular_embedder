{
 "cells": [
  {
   "cell_type": "code",
   "execution_count": 1,
   "id": "2642b323",
   "metadata": {},
   "outputs": [
    {
     "name": "stdout",
     "output_type": "stream",
     "text": [
      "xFormers установлен.\n"
     ]
    }
   ],
   "source": [
    "try:\n",
    "    import xformers.ops\n",
    "    print(\"xFormers установлен.\")\n",
    "except ImportError:\n",
    "    print(\"xFormers не найден. Тест не будет показательным.\")\n",
    "    # exit() # можно раскомментировать, если хотите прервать выполнение"
   ]
  },
  {
   "cell_type": "code",
   "execution_count": 2,
   "id": "948d50e4",
   "metadata": {},
   "outputs": [
    {
     "name": "stdout",
     "output_type": "stream",
     "text": [
      "xFormers enabled: True\n",
      "PyTorch: \t2.7.1+cu118\n",
      "CUDA : \t\t11.8\n",
      "Num of GPUs: \t2\n"
     ]
    }
   ],
   "source": [
    "import torch\n",
    "\n",
    "# Проверяем, что xformers включен по умолчанию\n",
    "print(f\"xFormers enabled: {torch.backends.cuda.mem_efficient_sdp_enabled()}\")\n",
    "\n",
    "if torch.cuda.is_available():\n",
    "    print(f\"PyTorch: \\t{torch.__version__}\")\n",
    "    print(f\"CUDA : \\t\\t{torch.version.cuda}\")\n",
    "    print(f\"Num of GPUs: \\t{torch.cuda.device_count()}\")\n",
    "else:\n",
    "    device_str = 'cpu'\n",
    "    print(\"CUDA not available. Using device: cpu\")"
   ]
  },
  {
   "cell_type": "code",
   "execution_count": 3,
   "id": "4bf80b31",
   "metadata": {},
   "outputs": [],
   "source": [
    "# # глобально выключаем бэкенд xFormers\n",
    "# torch.backends.cuda.enable_mem_efficient_sdp(False)\n",
    "# print(f\"xFormers enabled: {torch.backends.cuda.mem_efficient_sdp_enabled()}\")"
   ]
  },
  {
   "cell_type": "code",
   "execution_count": 3,
   "id": "c261dab4",
   "metadata": {},
   "outputs": [],
   "source": [
    "from torch import nn"
   ]
  },
  {
   "cell_type": "code",
   "execution_count": 4,
   "id": "242226ce",
   "metadata": {},
   "outputs": [],
   "source": [
    "# Параметры бенчмарка\n",
    "BATCH_SIZE = 64\n",
    "SEQ_LENGTH = 200\n",
    "D_MODEL = 512 \n",
    "N_LAYERS = 6\n",
    "N_HEADS = 8\n",
    "DIM_FEEDFORWARD = D_MODEL * 4\n",
    "VOCAB_SIZE = 1000\n",
    "\n",
    "N_CYCLES = 1000 # test"
   ]
  },
  {
   "cell_type": "code",
   "execution_count": 5,
   "id": "16ca2ee6",
   "metadata": {},
   "outputs": [],
   "source": [
    "class TransEncoder(nn.Module):\n",
    "    def __init__(self):\n",
    "        super().__init__()\n",
    "        self.emb = nn.Embedding(VOCAB_SIZE, D_MODEL)\n",
    "\n",
    "        # шаблон слоя\n",
    "        enc_layer = nn.TransformerEncoderLayer(\n",
    "            d_model = D_MODEL,\n",
    "            nhead = N_HEADS,\n",
    "            dim_feedforward = DIM_FEEDFORWARD,\n",
    "            batch_first=True\n",
    "        )\n",
    "\n",
    "        # набор слоев\n",
    "        self.transformer_enc = nn.TransformerEncoder(\n",
    "            enc_layer,\n",
    "            num_layers = N_LAYERS\n",
    "        )\n",
    "\n",
    "    def forward(self, src):\n",
    "        x = self.emb(src) # tok to vec\n",
    "        output = self.transformer_enc(x)\n",
    "        return output"
   ]
  },
  {
   "cell_type": "code",
   "execution_count": 6,
   "id": "b5077ab2",
   "metadata": {},
   "outputs": [
    {
     "data": {
      "text/plain": [
       "TransEncoder(\n",
       "  (emb): Embedding(1000, 512)\n",
       "  (transformer_enc): TransformerEncoder(\n",
       "    (layers): ModuleList(\n",
       "      (0-5): 6 x TransformerEncoderLayer(\n",
       "        (self_attn): MultiheadAttention(\n",
       "          (out_proj): NonDynamicallyQuantizableLinear(in_features=512, out_features=512, bias=True)\n",
       "        )\n",
       "        (linear1): Linear(in_features=512, out_features=2048, bias=True)\n",
       "        (dropout): Dropout(p=0.1, inplace=False)\n",
       "        (linear2): Linear(in_features=2048, out_features=512, bias=True)\n",
       "        (norm1): LayerNorm((512,), eps=1e-05, elementwise_affine=True)\n",
       "        (norm2): LayerNorm((512,), eps=1e-05, elementwise_affine=True)\n",
       "        (dropout1): Dropout(p=0.1, inplace=False)\n",
       "        (dropout2): Dropout(p=0.1, inplace=False)\n",
       "      )\n",
       "    )\n",
       "  )\n",
       ")"
      ]
     },
     "execution_count": 6,
     "metadata": {},
     "output_type": "execute_result"
    }
   ],
   "source": [
    "# модель на гпу\n",
    "device = torch.device('cuda')\n",
    "model = TransEncoder().to(device)\n",
    "model.eval() # для forward pass"
   ]
  },
  {
   "cell_type": "code",
   "execution_count": 7,
   "id": "64347805",
   "metadata": {},
   "outputs": [
    {
     "data": {
      "text/plain": [
       "torch.Size([64, 200])"
      ]
     },
     "execution_count": 7,
     "metadata": {},
     "output_type": "execute_result"
    }
   ],
   "source": [
    "# дата\n",
    "input_data = torch.randint(0, VOCAB_SIZE, (BATCH_SIZE, SEQ_LENGTH), device=device) # 0->VOCAB_SIZE диапазон id токенов\n",
    "input_data.shape"
   ]
  },
  {
   "cell_type": "code",
   "execution_count": 8,
   "id": "28fd0187",
   "metadata": {},
   "outputs": [],
   "source": [
    "# warm up\n",
    "for _ in range(10):\n",
    "    with torch.no_grad(): #  for no backprop\n",
    "        _ = model(input_data)\n",
    "torch.cuda.synchronize() # cpu stop untill gpu calc ready"
   ]
  },
  {
   "cell_type": "code",
   "execution_count": 9,
   "id": "c62a4b86",
   "metadata": {},
   "outputs": [
    {
     "name": "stdout",
     "output_type": "stream",
     "text": [
      "xFormers enabled: False\n"
     ]
    },
    {
     "name": "stdout",
     "output_type": "stream",
     "text": [
      "Среднее время на один forward pass: 36.045 мс\n",
      "Пиковое использование VRAM: 315.38 МБ\n"
     ]
    }
   ],
   "source": [
    "with torch.nn.attention.sdpa_kernel(torch.nn.attention.SDPBackend.MATH):\n",
    "    # Проверяем, что xformers включен по умолчанию\n",
    "    print(f\"xFormers enabled: {torch.backends.cuda.mem_efficient_sdp_enabled()}\")\n",
    "    # тайминги\n",
    "    start_event = torch.cuda.Event(enable_timing=True)\n",
    "    end_event = torch.cuda.Event(enable_timing=True)\n",
    "    timings = []\n",
    "\n",
    "    start_event.record()\n",
    "    for _ in range(N_CYCLES):\n",
    "        with torch.no_grad():\n",
    "            _ = model(input_data)\n",
    "    end_event.record()\n",
    "    torch.cuda.synchronize()\n",
    "\n",
    "    elapsed_time_ms = start_event.elapsed_time(end_event)\n",
    "    avg_time_ms = elapsed_time_ms / N_CYCLES\n",
    "\n",
    "    torch.cuda.reset_peak_memory_stats(device) # Сбрасываем счетчик пиковой памяти\n",
    "    with torch.no_grad():\n",
    "        _ = model(input_data)\n",
    "\n",
    "    peak_memory_bytes = torch.cuda.max_memory_allocated(device)\n",
    "    peak_memory_mb = peak_memory_bytes / (1024 * 1024)\n",
    "    \n",
    "\n",
    "    print(f\"Среднее время на один forward pass: {avg_time_ms:.3f} мс\")\n",
    "    print(f\"Пиковое использование VRAM: {peak_memory_mb:.2f} МБ\")"
   ]
  },
  {
   "cell_type": "code",
   "execution_count": 10,
   "id": "4490d629",
   "metadata": {},
   "outputs": [
    {
     "name": "stdout",
     "output_type": "stream",
     "text": [
      "xFormers enabled: True\n"
     ]
    },
    {
     "name": "stdout",
     "output_type": "stream",
     "text": [
      "Среднее время на один forward pass: 33.585 мс\n",
      "Пиковое использование VRAM: 313.25 МБ\n"
     ]
    }
   ],
   "source": [
    "with torch.nn.attention.sdpa_kernel(torch.nn.attention.SDPBackend.EFFICIENT_ATTENTION):\n",
    "    # Проверяем, что xformers включен по умолчанию\n",
    "    print(f\"xFormers enabled: {torch.backends.cuda.mem_efficient_sdp_enabled()}\")\n",
    "    # тайминги\n",
    "    start_event = torch.cuda.Event(enable_timing=True)\n",
    "    end_event = torch.cuda.Event(enable_timing=True)\n",
    "    timings = []\n",
    "\n",
    "    start_event.record()\n",
    "    for _ in range(N_CYCLES):\n",
    "        with torch.no_grad():\n",
    "            _ = model(input_data)\n",
    "    end_event.record()\n",
    "    torch.cuda.synchronize()\n",
    "\n",
    "    elapsed_time_ms = start_event.elapsed_time(end_event)\n",
    "    avg_time_ms = elapsed_time_ms / N_CYCLES\n",
    "\n",
    "    torch.cuda.reset_peak_memory_stats(device) # Сбрасываем счетчик пиковой памяти\n",
    "    with torch.no_grad():\n",
    "        _ = model(input_data)\n",
    "\n",
    "    peak_memory_bytes = torch.cuda.max_memory_allocated(device)\n",
    "    peak_memory_mb = peak_memory_bytes / (1024 * 1024)\n",
    "    \n",
    "\n",
    "    print(f\"Среднее время на один forward pass: {avg_time_ms:.3f} мс\")\n",
    "    print(f\"Пиковое использование VRAM: {peak_memory_mb:.2f} МБ\")"
   ]
  }
 ],
 "metadata": {
  "kernelspec": {
   "display_name": "xformer-py3.11",
   "language": "python",
   "name": "python3"
  },
  "language_info": {
   "codemirror_mode": {
    "name": "ipython",
    "version": 3
   },
   "file_extension": ".py",
   "mimetype": "text/x-python",
   "name": "python",
   "nbconvert_exporter": "python",
   "pygments_lexer": "ipython3",
   "version": "3.11.13"
  }
 },
 "nbformat": 4,
 "nbformat_minor": 5
}
