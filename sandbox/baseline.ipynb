{
 "cells": [
  {
   "cell_type": "code",
   "execution_count": 1,
   "id": "948d50e4",
   "metadata": {},
   "outputs": [
    {
     "name": "stdout",
     "output_type": "stream",
     "text": [
      "PyTorch: \t2.7.1+cu118\n",
      "CUDA : \t\t11.8\n",
      "Num of GPUs: \t2\n"
     ]
    }
   ],
   "source": [
    "import torch\n",
    "if torch.cuda.is_available():\n",
    "    print(f\"PyTorch: \\t{torch.__version__}\")\n",
    "    print(f\"CUDA : \\t\\t{torch.version.cuda}\")\n",
    "    print(f\"Num of GPUs: \\t{torch.cuda.device_count()}\")\n",
    "else:\n",
    "    device_str = 'cpu'\n",
    "    print(\"CUDA not available. Using device: cpu\")"
   ]
  },
  {
   "cell_type": "code",
   "execution_count": 2,
   "id": "c261dab4",
   "metadata": {},
   "outputs": [],
   "source": [
    "from torch import nn"
   ]
  },
  {
   "cell_type": "code",
   "execution_count": 3,
   "id": "242226ce",
   "metadata": {},
   "outputs": [],
   "source": [
    "# 1\n",
    "\n",
    "# Параметры бенчмарка\n",
    "BATCH_SIZE = 64\n",
    "SEQ_LENGTH = 100\n",
    "D_MODEL = 512 \n",
    "N_LAYERS = 6\n",
    "N_HEADS = 8\n",
    "DIM_FEEDFORWARD = D_MODEL * 4\n",
    "VOCAB_SIZE = 1000"
   ]
  },
  {
   "cell_type": "code",
   "execution_count": 4,
   "id": "16ca2ee6",
   "metadata": {},
   "outputs": [],
   "source": [
    "class TransEncoder(nn.Module):\n",
    "    def __init__(self):\n",
    "        super().__init__()\n",
    "        self.emb = nn.Embedding(VOCAB_SIZE, D_MODEL)\n",
    "\n",
    "        # шаблон слоя\n",
    "        enc_layer = nn.TransformerEncoderLayer(\n",
    "            d_model = D_MODEL,\n",
    "            nhead = N_HEADS,\n",
    "            dim_feedforward = DIM_FEEDFORWARD,\n",
    "            batch_first=True\n",
    "        )\n",
    "\n",
    "        # набор слоев\n",
    "        self.transformer_enc = nn.TransformerEncoder(\n",
    "            enc_layer,\n",
    "            num_layers = N_LAYERS\n",
    "        )\n",
    "\n",
    "    def forward(self, src):\n",
    "        x = self.emb(src) # tok to vec\n",
    "        output = self.transformer_enc(x)\n",
    "        return output"
   ]
  },
  {
   "cell_type": "code",
   "execution_count": 5,
   "id": "b5077ab2",
   "metadata": {},
   "outputs": [
    {
     "data": {
      "text/plain": [
       "TransEncoder(\n",
       "  (emb): Embedding(1000, 512)\n",
       "  (transformer_enc): TransformerEncoder(\n",
       "    (layers): ModuleList(\n",
       "      (0-5): 6 x TransformerEncoderLayer(\n",
       "        (self_attn): MultiheadAttention(\n",
       "          (out_proj): NonDynamicallyQuantizableLinear(in_features=512, out_features=512, bias=True)\n",
       "        )\n",
       "        (linear1): Linear(in_features=512, out_features=2048, bias=True)\n",
       "        (dropout): Dropout(p=0.1, inplace=False)\n",
       "        (linear2): Linear(in_features=2048, out_features=512, bias=True)\n",
       "        (norm1): LayerNorm((512,), eps=1e-05, elementwise_affine=True)\n",
       "        (norm2): LayerNorm((512,), eps=1e-05, elementwise_affine=True)\n",
       "        (dropout1): Dropout(p=0.1, inplace=False)\n",
       "        (dropout2): Dropout(p=0.1, inplace=False)\n",
       "      )\n",
       "    )\n",
       "  )\n",
       ")"
      ]
     },
     "execution_count": 5,
     "metadata": {},
     "output_type": "execute_result"
    }
   ],
   "source": [
    "# модель на гпу\n",
    "device = torch.device('cuda')\n",
    "model = TransEncoder().to(device)\n",
    "model.eval() # для forward pass"
   ]
  },
  {
   "cell_type": "code",
   "execution_count": 6,
   "id": "64347805",
   "metadata": {},
   "outputs": [
    {
     "data": {
      "text/plain": [
       "torch.Size([64, 100])"
      ]
     },
     "execution_count": 6,
     "metadata": {},
     "output_type": "execute_result"
    }
   ],
   "source": [
    "# дата\n",
    "input_data = torch.randint(0, VOCAB_SIZE, (BATCH_SIZE, SEQ_LENGTH), device=device) # 0->VOCAB_SIZE диапазон id токенов\n",
    "input_data.shape"
   ]
  },
  {
   "cell_type": "code",
   "execution_count": 7,
   "id": "28fd0187",
   "metadata": {},
   "outputs": [],
   "source": [
    "# warm up\n",
    "for _ in range(10):\n",
    "    with torch.no_grad(): #  for no backprop\n",
    "        _ = model(input_data)\n",
    "torch.cuda.synchronize() # cpu stop untill gpu calc ready"
   ]
  },
  {
   "cell_type": "code",
   "execution_count": 8,
   "id": "81d53fc1",
   "metadata": {},
   "outputs": [
    {
     "name": "stdout",
     "output_type": "stream",
     "text": [
      "Среднее время на один forward pass: 16.954 мс\n"
     ]
    }
   ],
   "source": [
    "# тайминги\n",
    "start_event = torch.cuda.Event(enable_timing=True)\n",
    "end_event = torch.cuda.Event(enable_timing=True)\n",
    "timings = []\n",
    "n_cycles = 100\n",
    "\n",
    "start_event.record()\n",
    "for _ in range(n_cycles):\n",
    "    with torch.no_grad():\n",
    "        _ = model(input_data)\n",
    "end_event.record()\n",
    "torch.cuda.synchronize()\n",
    "\n",
    "elapsed_time_ms = start_event.elapsed_time(end_event)\n",
    "avg_time_ms = elapsed_time_ms / n_cycles\n",
    "print(f\"Среднее время на один forward pass: {avg_time_ms:.3f} мс\")"
   ]
  },
  {
   "cell_type": "code",
   "execution_count": 9,
   "id": "235cfb3c",
   "metadata": {},
   "outputs": [
    {
     "name": "stdout",
     "output_type": "stream",
     "text": [
      "Пиковое использование VRAM: 198.20 МБ\n"
     ]
    }
   ],
   "source": [
    "# memoryview\n",
    "\n",
    "torch.cuda.reset_peak_memory_stats(device) # Сбрасываем счетчик пиковой памяти\n",
    "with torch.no_grad():\n",
    "    _ = model(input_data)\n",
    "\n",
    "peak_memory_bytes = torch.cuda.max_memory_allocated(device)\n",
    "peak_memory_mb = peak_memory_bytes / (1024 * 1024)\n",
    "print(f\"Пиковое использование VRAM: {peak_memory_mb:.2f} МБ\")\n"
   ]
  },
  {
   "cell_type": "markdown",
   "id": "5af719ac",
   "metadata": {},
   "source": [
    "стоимость одной операции прямого прохода (forward pass) через модель для одного батча данных"
   ]
  }
 ],
 "metadata": {
  "kernelspec": {
   "display_name": "xformer-py3.11",
   "language": "python",
   "name": "python3"
  },
  "language_info": {
   "codemirror_mode": {
    "name": "ipython",
    "version": 3
   },
   "file_extension": ".py",
   "mimetype": "text/x-python",
   "name": "python",
   "nbconvert_exporter": "python",
   "pygments_lexer": "ipython3",
   "version": "3.11.13"
  }
 },
 "nbformat": 4,
 "nbformat_minor": 5
}
