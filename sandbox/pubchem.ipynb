{
 "cells": [
  {
   "cell_type": "markdown",
   "metadata": {},
   "source": [
    "# Демонстрация: Промышленный пайплайн обработки больших данных\n",
    "\n",
    "**Задача:** ETL PubChem (8+ ГБ)в современный, сжатый и высокопроизводительный формат Parquet, готовый для задач машинного обучения.\n",
    "\n",
    "1.  **Настройка среды:** Установка необходимых серверных утилит и Python-библиотек.\n",
    "2.  **Конфигурация:** Определение всех путей и констант.\n",
    "3.  **Извлечение (Extract):** Быстрое и надежное скачивание исходных данных с помощью `aria2c`.\n",
    "4.  **Преобразование (Transform) и Загрузка (Load):** Эффективная обработка 8 ГБ файла без переполнения памяти с помощью `Dask` и его сохранение в форматы Parquet и CSV для сравнения.\n",
    "5.  **Анализ и Визуализация:** Наглядное сравнение форматов по занимаемому месту на диске и производительности."
   ]
  },
  {
   "cell_type": "markdown",
   "metadata": {},
   "source": [
    "## 1. Настройка среды"
   ]
  },
  {
   "cell_type": "code",
   "execution_count": null,
   "metadata": {},
   "outputs": [],
   "source": [
    "# !poetry add pandas pyarrow datasets requests notebook tqdm psutil matplotlib seaborn \"dask[dataframe]\""
   ]
  },
  {
   "cell_type": "code",
   "execution_count": null,
   "metadata": {},
   "outputs": [],
   "source": [
    "# !sudo apt-get update && sudo apt-get install -y aria2"
   ]
  },
  {
   "cell_type": "code",
   "execution_count": 1,
   "metadata": {},
   "outputs": [],
   "source": [
    "from pathlib import Path\n",
    "import dask.dataframe as dd\n",
    "import dask\n",
    "import time\n",
    "import pandas as pd\n",
    "import psutil\n",
    "import os\n",
    "import matplotlib.pyplot as plt\n",
    "import seaborn as sns"
   ]
  },
  {
   "cell_type": "markdown",
   "metadata": {},
   "source": [
    "## 2. Конфигурация проекта\n",
    "\n",
    "Определяем все пути в одном месте. Это лучшая практика для обеспечения чистоты и воспроизводимости кода."
   ]
  },
  {
   "cell_type": "code",
   "execution_count": 2,
   "metadata": {},
   "outputs": [
    {
     "name": "stdout",
     "output_type": "stream",
     "text": [
      "config:\n",
      "  Директория данных: /app/data\n",
      "  Исходный архив: CID-SMILES.gz\n",
      "  Распакованный файл: CID-SMILES\n",
      "  Итоговый CSV: pubchem_full.csv\n",
      "  Итоговый Parquet: pubchem_compounds.parquet.dask\n"
     ]
    }
   ],
   "source": [
    "# --- Конфигурация путей ---\n",
    "DATA_DIR = Path(\"../data\")\n",
    "DATA_DIR.mkdir(parents=True, exist_ok=True)\n",
    "\n",
    "# --- Конфигурация источника данных ---\n",
    "DATA_URL = \"ftp://ftp.ncbi.nlm.nih.gov/pubchem/Compound/Extras/CID-SMILES.gz\"\n",
    "ARCHIVE_FILE = DATA_DIR / os.path.basename(DATA_URL)\n",
    "UNPACKED_FILE = DATA_DIR / ARCHIVE_FILE.name.removesuffix('.gz') \n",
    "\n",
    "# --- Конфигурация выходных данных ---\n",
    "CSV_PATH = DATA_DIR / \"pubchem_full.csv\" \n",
    "PARQUET_DIR = DATA_DIR / \"pubchem_compounds.parquet.dask\" \n",
    "\n",
    "print(\"config:\")\n",
    "print(f\"  Директория данных: {DATA_DIR.resolve()}\")\n",
    "print(f\"  Исходный архив: {ARCHIVE_FILE.name}\")\n",
    "print(f\"  Распакованный файл: {UNPACKED_FILE.name}\")\n",
    "print(f\"  Итоговый CSV: {CSV_PATH.name}\")\n",
    "print(f\"  Итоговый Parquet: {PARQUET_DIR.name}\")"
   ]
  },
  {
   "cell_type": "markdown",
   "metadata": {},
   "source": [
    "## 3. Extract: `aria2c` + `gunzip`"
   ]
  },
  {
   "cell_type": "code",
   "execution_count": 3,
   "metadata": {},
   "outputs": [
    {
     "name": "stdout",
     "output_type": "stream",
     "text": [
      "downloading: aria2c -c -x 8 -s 8 --dir=\"../data\" \"ftp://ftp.ncbi.nlm.nih.gov/pubchem/Compound/Extras/CID-SMILES.gz\"\n",
      "\n",
      "\n",
      "07/09 12:14:14 [\u001b[1;32mNOTICE\u001b[0m] Downloading 1 item(s)\n",
      "\u001b[35m[\u001b[0m#90067b 1.3GiB/1.3GiB\u001b[36m(99%)\u001b[0m CN:1 DL:\u001b[32m53KiB\u001b[0m\u001b[35m]\u001b[0m\u001b[0m\n",
      "07/09 12:14:27 [\u001b[1;32mNOTICE\u001b[0m] Download complete: ../data/CID-SMILES.gz\n",
      "\n",
      "Download Results:\n",
      "gid   |stat|avg speed  |path/URI\n",
      "======+====+===========+=======================================================\n",
      "90067b|\u001b[1;32mOK\u001b[0m  |   4.9KiB/s|../data/CID-SMILES.gz\n",
      "\n",
      "Status Legend:\n",
      "(OK):download completed.\n",
      "\n",
      "unpack: gunzip -k \"../data/CID-SMILES.gz\"\n",
      "unpacked file exists\n"
     ]
    }
   ],
   "source": [
    "# --- Шаг 1: Скачивание с помощью aria2c ---\n",
    "command_aria = f'aria2c -c -x 8 -s 8 --dir=\"{DATA_DIR}\" \"{DATA_URL}\"'\n",
    "print(f\"downloading: {command_aria}\\n\")\n",
    "!{command_aria}\n",
    "\n",
    "# --- Шаг 2: Распаковка с помощью gunzip ---\n",
    "command_gunzip = f'gunzip -k \"{ARCHIVE_FILE}\"'\n",
    "print(f\"\\nunpack: {command_gunzip}\")\n",
    "if os.path.exists(ARCHIVE_FILE) and not os.path.exists(UNPACKED_FILE):\n",
    "    !{command_gunzip}\n",
    "    print(\"unpacked\")\n",
    "else:\n",
    "    print(\"unpacked file exists\")"
   ]
  },
  {
   "cell_type": "markdown",
   "metadata": {},
   "source": [
    "## 4. Transform & Load\n",
    "\n",
    "`Dask` lazy multicpu read"
   ]
  },
  {
   "cell_type": "code",
   "execution_count": 4,
   "metadata": {},
   "outputs": [
    {
     "data": {
      "text/html": [
       "<div>\n",
       "<style scoped>\n",
       "    .dataframe tbody tr th:only-of-type {\n",
       "        vertical-align: middle;\n",
       "    }\n",
       "\n",
       "    .dataframe tbody tr th {\n",
       "        vertical-align: top;\n",
       "    }\n",
       "\n",
       "    .dataframe thead th {\n",
       "        text-align: right;\n",
       "    }\n",
       "</style>\n",
       "<table border=\"1\" class=\"dataframe\">\n",
       "  <thead>\n",
       "    <tr style=\"text-align: right;\">\n",
       "      <th></th>\n",
       "      <th>cid</th>\n",
       "      <th>smiles</th>\n",
       "    </tr>\n",
       "  </thead>\n",
       "  <tbody>\n",
       "    <tr>\n",
       "      <th>0</th>\n",
       "      <td>1</td>\n",
       "      <td>CC(=O)OC(CC(=O)[O-])C[N+](C)(C)C</td>\n",
       "    </tr>\n",
       "    <tr>\n",
       "      <th>1</th>\n",
       "      <td>2</td>\n",
       "      <td>CC(=O)OC(CC(=O)O)C[N+](C)(C)C</td>\n",
       "    </tr>\n",
       "    <tr>\n",
       "      <th>2</th>\n",
       "      <td>3</td>\n",
       "      <td>C1=CC(C(C(=C1)C(=O)O)O)O</td>\n",
       "    </tr>\n",
       "    <tr>\n",
       "      <th>3</th>\n",
       "      <td>4</td>\n",
       "      <td>CC(CN)O</td>\n",
       "    </tr>\n",
       "    <tr>\n",
       "      <th>4</th>\n",
       "      <td>5</td>\n",
       "      <td>C(C(=O)COP(=O)(O)O)N</td>\n",
       "    </tr>\n",
       "  </tbody>\n",
       "</table>\n",
       "</div>"
      ],
      "text/plain": [
       "  cid                            smiles\n",
       "0   1  CC(=O)OC(CC(=O)[O-])C[N+](C)(C)C\n",
       "1   2     CC(=O)OC(CC(=O)O)C[N+](C)(C)C\n",
       "2   3          C1=CC(C(C(=C1)C(=O)O)O)O\n",
       "3   4                           CC(CN)O\n",
       "4   5              C(C(=O)COP(=O)(O)O)N"
      ]
     },
     "metadata": {},
     "output_type": "display_data"
    },
    {
     "name": "stdout",
     "output_type": "stream",
     "text": [
      "\n",
      "сохранение в Parquet в директорию pubchem_compounds.parquet.dask...\n",
      "Сохранение в Parquet завершено за 161.65 сек.\n"
     ]
    }
   ],
   "source": [
    "# --- Создание Dask DataFrame ---\n",
    "ddf = dd.read_csv(\n",
    "    UNPACKED_FILE, \n",
    "    sep='\\t', \n",
    "    header=None,                  \n",
    "    names=['cid', 'smiles'],      \n",
    "    dtype={'cid': 'str', 'smiles': 'str'}, \n",
    "    blocksize='64MB'\n",
    ")\n",
    "display(ddf.head())\n",
    "\n",
    "# --- Сохранение в Parquet (быстрый шаг) ---\n",
    "print(f\"\\nсохранение в Parquet в директорию {PARQUET_DIR.name}...\")\n",
    "start_time_parquet = time.time()\n",
    "ddf.to_parquet(PARQUET_DIR, engine='pyarrow', compression='snappy', write_index=False, compute=True, overwrite=True)\n",
    "total_time_parquet = time.time() - start_time_parquet\n",
    "print(f\"Сохранение в Parquet завершено за {total_time_parquet:.2f} сек.\")\n",
    "\n",
    "# # --- Сохранение в ЕДИНЫЙ CSV ФАЙЛ (медленный шаг) ---\n",
    "# print(f\"\\nсоздание полного CSV файла ({CSV_PATH.name}).\")\n",
    "# start_time_csv = time.time()\n",
    "# computation_csv = ddf.to_csv(str(CSV_PATH), single_file=True, index=False, compute=False)\n",
    "# dask.compute(computation_csv)\n",
    "# total_time_csv = time.time() - start_time_csv\n",
    "# print(f\"Полный CSV файл создан за {total_time_csv:.2f} сек.\")"
   ]
  },
  {
   "cell_type": "markdown",
   "metadata": {},
   "source": [
    "## 5. Анализ и Визуализация №1: Размер на диске\n",
    "\n",
    "размер CSV принимается за 100%."
   ]
  },
  {
   "cell_type": "code",
   "execution_count": 4,
   "metadata": {},
   "outputs": [
    {
     "data": {
      "image/png": "[encoded data removed]",
      "text/plain": [
       "<Figure size 800x400 with 1 Axes>"
      ]
     },
     "metadata": {},
     "output_type": "display_data"
    }
   ],
   "source": [
    "def get_dir_size_mb(path):\n",
    "    try:\n",
    "        total = sum(f.stat().st_size for f in Path(path).glob('**/*') if f.is_file())\n",
    "        return total / (1024 * 1024)\n",
    "    except FileNotFoundError: return 0\n",
    "\n",
    "def get_file_size_mb(path):\n",
    "    try:\n",
    "        return path.stat().st_size / (1024 * 1024)\n",
    "    except FileNotFoundError: return 0\n",
    "\n",
    "packed_size = get_file_size_mb(ARCHIVE_FILE)\n",
    "unpacked = get_file_size_mb(UNPACKED_FILE)\n",
    "parquet_total_size = get_dir_size_mb(PARQUET_DIR)\n",
    "\n",
    "reference_size = unpacked\n",
    "labels = ['CSV (Референс)', 'Parquet', '.gz']\n",
    "values = [unpacked, parquet_total_size, packed_size]\n",
    "percentages = [(v / reference_size) * 100 for v in values]\n",
    "\n",
    "plt.style.use('seaborn-v0_8-whitegrid')\n",
    "fig, ax = plt.subplots(figsize=(8, 4))\n",
    "colors = ['grey', 'mediumseagreen', 'skyblue']\n",
    "bars = ax.bar(labels, values, color=colors, edgecolor='black', linewidth=1.5)\n",
    "\n",
    "for i, bar in enumerate(bars):\n",
    "    height = bar.get_height()\n",
    "    label_text = f'{values[i]:.1f} МБ\\n({percentages[i]:.0f}%)'\n",
    "    ax.text(bar.get_x() + bar.get_width() / 2.0, height, label_text, ha='center', va='bottom', fontsize=11, weight='bold')\n",
    "\n",
    "ax.set_title('Эффективность хранения', fontsize=18, weight='bold', pad=20)\n",
    "ax.set_ylabel('Размер (МБ)', fontsize=14)\n",
    "ax.tick_params(axis='x', which='major', pad=15, labelsize=12)\n",
    "ax.spines['top'].set_visible(False); ax.spines['right'].set_visible(False)\n",
    "ax.set_ylim(0, max(values) * 1.15)\n",
    "plt.tight_layout()\n",
    "plt.show()"
   ]
  },
  {
   "cell_type": "markdown",
   "metadata": {},
   "source": [
    "## 6. Анализ и Визуализация №2: Производительность и Память\n",
    "\n",
    "`Parquet` vs `CSV`"
   ]
  },
  {
   "cell_type": "markdown",
   "metadata": {},
   "source": [
    "## 7. Финальные выводы\n"
   ]
  }
 ],
 "metadata": {
  "kernelspec": {
   "display_name": "xformer-py3.11",
   "language": "python",
   "name": "python3"
  },
  "language_info": {
   "codemirror_mode": {
    "name": "ipython",
    "version": 3
   },
   "file_extension": ".py",
   "mimetype": "text/x-python",
   "name": "python",
   "nbconvert_exporter": "python",
   "pygments_lexer": "ipython3",
   "version": "3.11.13"
  }
 },
 "nbformat": 4,
 "nbformat_minor": 4
}
