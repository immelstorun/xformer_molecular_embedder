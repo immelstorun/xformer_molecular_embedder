{
 "cells": [
  {
   "cell_type": "markdown",
   "metadata": {},
   "source": [
    "# Демонстрация: Промышленный пайплайн обработки больших данных\n",
    "\n",
    "**Задача:** ETL PubChem (8+ ГБ)в современный, сжатый и высокопроизводительный формат Parquet, готовый для задач машинного обучения.\n",
    "\n",
    "1.  **Настройка среды:** Установка необходимых серверных утилит и Python-библиотек.\n",
    "2.  **Конфигурация:** Определение всех путей и констант.\n",
    "3.  **Извлечение (Extract):** Быстрое и надежное скачивание исходных данных с помощью `aria2c`.\n",
    "4.  **Преобразование (Transform) и Загрузка (Load):** Эффективная обработка 8 ГБ файла без переполнения памяти с помощью `Dask` и его сохранение в форматы Parquet и CSV для сравнения.\n",
    "5.  **Анализ и Визуализация:** Наглядное сравнение форматов по занимаемому месту на диске и производительности."
   ]
  },
  {
   "cell_type": "markdown",
   "metadata": {},
   "source": [
    "## 1. Настройка среды"
   ]
  },
  {
   "cell_type": "code",
   "execution_count": null,
   "metadata": {},
   "outputs": [],
   "source": [
    "# !poetry add pandas pyarrow datasets requests notebook tqdm psutil matplotlib seaborn \"dask[dataframe]\""
   ]
  },
  {
   "cell_type": "code",
   "execution_count": null,
   "metadata": {},
   "outputs": [],
   "source": [
    "# !sudo apt-get update && sudo apt-get install -y aria2"
   ]
  },
  {
   "cell_type": "code",
   "execution_count": 1,
   "metadata": {},
   "outputs": [],
   "source": [
    "from pathlib import Path\n",
    "import dask.dataframe as dd\n",
    "import dask\n",
    "import time\n",
    "import pandas as pd\n",
    "import psutil\n",
    "import os\n",
    "import matplotlib.pyplot as plt\n",
    "import seaborn as sns\n",
    "import re"
   ]
  },
  {
   "cell_type": "markdown",
   "metadata": {},
   "source": [
    "## 2. Конфигурация проекта\n",
    "\n",
    "Определяем все пути в одном месте. Это лучшая практика для обеспечения чистоты и воспроизводимости кода."
   ]
  },
  {
   "cell_type": "code",
   "execution_count": 2,
   "metadata": {},
   "outputs": [
    {
     "name": "stdout",
     "output_type": "stream",
     "text": [
      "config:\n",
      "  Директория данных: /app/data\n",
      "  Исходный архив: DrugSpaceX-S-sample-smiles.smi.tar.gz\n",
      "  Распакованный файл: DrugSpaceX-S-sample-smiles.smi\n",
      "  Итоговый Parquet: drugspacex_sample.parquet.dask\n"
     ]
    }
   ],
   "source": [
    "# --- Конфигурация путей ---\n",
    "DATA_DIR = Path(\"../data\")\n",
    "DATA_DIR.mkdir(parents=True, exist_ok=True)\n",
    "\n",
    "# --- Конфигурация источника данных ---\n",
    "DATA_URL = \"https://drugspacex.simm.ac.cn/static/gz/DrugSpaceX-S-sample-smiles.smi.tar.gz\"\n",
    "ARCHIVE_FILE = DATA_DIR / os.path.basename(DATA_URL)\n",
    "UNPACKED_FILE = DATA_DIR / ARCHIVE_FILE.name.removesuffix('.tar.gz') \n",
    "\n",
    "# --- Конфигурация выходных данных ---\n",
    "# CSV_PATH = DATA_DIR / \"pubchem_full.csv\" \n",
    "PARQUET_DIR = DATA_DIR / \"drugspacex_sample.parquet.dask\" \n",
    "\n",
    "print(\"config:\")\n",
    "print(f\"  Директория данных: {DATA_DIR.resolve()}\")\n",
    "print(f\"  Исходный архив: {ARCHIVE_FILE.name}\")\n",
    "print(f\"  Распакованный файл: {UNPACKED_FILE.name}\")\n",
    "# print(f\"  Итоговый CSV: {CSV_PATH.name}\")\n",
    "print(f\"  Итоговый Parquet: {PARQUET_DIR.name}\")"
   ]
  },
  {
   "cell_type": "markdown",
   "metadata": {},
   "source": [
    "## 3. Extract: `aria2c` + `gunzip`"
   ]
  },
  {
   "cell_type": "code",
   "execution_count": 6,
   "metadata": {},
   "outputs": [
    {
     "name": "stdout",
     "output_type": "stream",
     "text": [
      "downloading: aria2c -c -x 8 -s 8 --dir=\"../data\" \"https://drugspacex.simm.ac.cn/static/gz/DrugSpaceX-Total.smi.tar.gz\"\n",
      "\n",
      "\n",
      "07/09 18:21:11 [\u001b[1;32mNOTICE\u001b[0m] Downloading 1 item(s)\n",
      "\n",
      "07/09 18:21:12 [\u001b[1;32mNOTICE\u001b[0m] GID#1717349f07f03fbb - Download has already completed: ../data/DrugSpaceX-Total.smi.tar.gz\n",
      "\n",
      "07/09 18:21:12 [\u001b[1;32mNOTICE\u001b[0m] Download complete: ../data/DrugSpaceX-Total.smi.tar.gz\n",
      "\n",
      "Download Results:\n",
      "gid   |stat|avg speed  |path/URI\n",
      "======+====+===========+=======================================================\n",
      "171734|\u001b[1;32mOK\u001b[0m  |       0B/s|../data/DrugSpaceX-Total.smi.tar.gz\n",
      "\n",
      "Status Legend:\n",
      "(OK):download completed.\n",
      "\n",
      "unpack: gunzip -k \"../data/DrugSpaceX-Total.smi.tar.gz\"\n",
      "gzip: ../data/DrugSpaceX-Total.smi.tar already exists; do you wish to overwrite (y or n)? ^C\n",
      "unpacked\n"
     ]
    }
   ],
   "source": [
    "# --- Шаг 1: Скачивание с помощью aria2c ---\n",
    "command_aria = f'aria2c -c -x 8 -s 8 --dir=\"{DATA_DIR}\" \"{DATA_URL}\"'\n",
    "print(f\"downloading: {command_aria}\\n\")\n",
    "!{command_aria}\n",
    "\n",
    "# --- Шаг 2: Распаковка с помощью gunzip ---\n",
    "command_gunzip = f'gunzip -k \"{ARCHIVE_FILE}\"'\n",
    "print(f\"\\nunpack: {command_gunzip}\")\n",
    "if os.path.exists(ARCHIVE_FILE) and not os.path.exists(UNPACKED_FILE):\n",
    "    !{command_gunzip}\n",
    "    print(\"unpacked\")\n",
    "else:\n",
    "    print(\"unpacked file exists\")"
   ]
  },
  {
   "cell_type": "markdown",
   "metadata": {},
   "source": [
    "## 4. Transform & Load\n",
    "\n",
    "`Dask` lazy multicpu read"
   ]
  },
  {
   "cell_type": "code",
   "execution_count": 3,
   "metadata": {},
   "outputs": [
    {
     "name": "stdout",
     "output_type": "stream",
     "text": [
      "Колонки после очистки через .rename():\n"
     ]
    },
    {
     "data": {
      "application/vnd.microsoft.datawrangler.viewer.v0+json": {
       "columns": [
        {
         "name": "index",
         "rawType": "int64",
         "type": "integer"
        },
        {
         "name": "smiles",
         "rawType": "string",
         "type": "string"
        },
        {
         "name": "de_id",
         "rawType": "string",
         "type": "string"
        },
        {
         "name": "logp",
         "rawType": "float64",
         "type": "float"
        },
        {
         "name": "mw",
         "rawType": "float64",
         "type": "float"
        },
        {
         "name": "h_a",
         "rawType": "int64",
         "type": "integer"
        },
        {
         "name": "h_d",
         "rawType": "int64",
         "type": "integer"
        },
        {
         "name": "r_b",
         "rawType": "int64",
         "type": "integer"
        },
        {
         "name": "tpas",
         "rawType": "float64",
         "type": "float"
        },
        {
         "name": "qed",
         "rawType": "float64",
         "type": "float"
        },
        {
         "name": "sascore",
         "rawType": "float64",
         "type": "float"
        },
        {
         "name": "parents_id",
         "rawType": "string",
         "type": "string"
        },
        {
         "name": "ns_id",
         "rawType": "string",
         "type": "string"
        },
        {
         "name": "pdb_id",
         "rawType": "string",
         "type": "string"
        },
        {
         "name": "drugbank_id",
         "rawType": "string",
         "type": "string"
        },
        {
         "name": "bindingdb_id",
         "rawType": "string",
         "type": "string"
        },
        {
         "name": "chembl_id",
         "rawType": "string",
         "type": "string"
        },
        {
         "name": "ccdc_id",
         "rawType": "string",
         "type": "string"
        },
        {
         "name": "pains",
         "rawType": "bool",
         "type": "boolean"
        },
        {
         "name": "surechembl_id",
         "rawType": "string",
         "type": "string"
        },
        {
         "name": "novelty",
         "rawType": "float64",
         "type": "float"
        }
       ],
       "ref": "c9067f0c-9f02-4318-a629-459b63ef2486",
       "rows": [
        [
         "0",
         "O=Cc1ncc(COP(=O)(O)O)c(C=O)c1O",
         "DE2406",
         "0.02",
         "261.0",
         "8",
         "3",
         "5",
         "134.02",
         "0.5",
         "3.35",
         "DE10",
         "NS4",
         "ND",
         "ND",
         "ND",
         "ND",
         "ND",
         "False",
         "ND",
         "1.0"
        ],
        [
         "1",
         "CCc1ncc(COP(=O)(O)O)c(C=O)c1O",
         "DE2407",
         "0.77",
         "261.04",
         "7",
         "3",
         "5",
         "116.95",
         "0.53",
         "3.13",
         "DE10",
         "NS15",
         "ND",
         "ND",
         "ND",
         "ND",
         "ND",
         "False",
         "ND",
         "1.0"
        ],
        [
         "2",
         "Cc1ncc(COP(=O)(O)O)c(N=O)c1O",
         "DE2408",
         "1.1",
         "248.02",
         "8",
         "3",
         "4",
         "129.31",
         "0.54",
         "3.31",
         "DE10",
         "NS17",
         "ND",
         "ND",
         "ND",
         "ND",
         "ND",
         "False",
         "ND",
         "1.0"
        ],
        [
         "3",
         "Cc1ncc(CCP(=O)(O)O)c(C=O)c1O",
         "DE2409",
         "0.63",
         "245.05",
         "6",
         "3",
         "4",
         "107.72",
         "0.53",
         "3.11",
         "DE10",
         "NS40",
         "ND",
         "ND",
         "50336044",
         "CHEMBL3427368",
         "ND",
         "False",
         "ND",
         "1.0"
        ],
        [
         "4",
         "Cc1ncc(C(O)OP(=O)(O)O)c(C=O)c1O",
         "DE2410",
         "0.01",
         "263.02",
         "8",
         "4",
         "4",
         "137.18",
         "0.34",
         "3.78",
         "DE10",
         "NS55",
         "ND",
         "ND",
         "ND",
         "ND",
         "ND",
         "False",
         "ND",
         "1.0"
        ]
       ],
       "shape": {
        "columns": 20,
        "rows": 5
       }
      },
      "text/html": [
       "<div>\n",
       "<style scoped>\n",
       "    .dataframe tbody tr th:only-of-type {\n",
       "        vertical-align: middle;\n",
       "    }\n",
       "\n",
       "    .dataframe tbody tr th {\n",
       "        vertical-align: top;\n",
       "    }\n",
       "\n",
       "    .dataframe thead th {\n",
       "        text-align: right;\n",
       "    }\n",
       "</style>\n",
       "<table border=\"1\" class=\"dataframe\">\n",
       "  <thead>\n",
       "    <tr style=\"text-align: right;\">\n",
       "      <th></th>\n",
       "      <th>smiles</th>\n",
       "      <th>de_id</th>\n",
       "      <th>logp</th>\n",
       "      <th>mw</th>\n",
       "      <th>h_a</th>\n",
       "      <th>h_d</th>\n",
       "      <th>r_b</th>\n",
       "      <th>tpas</th>\n",
       "      <th>qed</th>\n",
       "      <th>sascore</th>\n",
       "      <th>parents_id</th>\n",
       "      <th>ns_id</th>\n",
       "      <th>pdb_id</th>\n",
       "      <th>drugbank_id</th>\n",
       "      <th>bindingdb_id</th>\n",
       "      <th>chembl_id</th>\n",
       "      <th>ccdc_id</th>\n",
       "      <th>pains</th>\n",
       "      <th>surechembl_id</th>\n",
       "      <th>novelty</th>\n",
       "    </tr>\n",
       "  </thead>\n",
       "  <tbody>\n",
       "    <tr>\n",
       "      <th>0</th>\n",
       "      <td>O=Cc1ncc(COP(=O)(O)O)c(C=O)c1O</td>\n",
       "      <td>DE2406</td>\n",
       "      <td>0.02</td>\n",
       "      <td>261.00</td>\n",
       "      <td>8</td>\n",
       "      <td>3</td>\n",
       "      <td>5</td>\n",
       "      <td>134.02</td>\n",
       "      <td>0.50</td>\n",
       "      <td>3.35</td>\n",
       "      <td>DE10</td>\n",
       "      <td>NS4</td>\n",
       "      <td>ND</td>\n",
       "      <td>ND</td>\n",
       "      <td>ND</td>\n",
       "      <td>ND</td>\n",
       "      <td>ND</td>\n",
       "      <td>False</td>\n",
       "      <td>ND</td>\n",
       "      <td>1.0</td>\n",
       "    </tr>\n",
       "    <tr>\n",
       "      <th>1</th>\n",
       "      <td>CCc1ncc(COP(=O)(O)O)c(C=O)c1O</td>\n",
       "      <td>DE2407</td>\n",
       "      <td>0.77</td>\n",
       "      <td>261.04</td>\n",
       "      <td>7</td>\n",
       "      <td>3</td>\n",
       "      <td>5</td>\n",
       "      <td>116.95</td>\n",
       "      <td>0.53</td>\n",
       "      <td>3.13</td>\n",
       "      <td>DE10</td>\n",
       "      <td>NS15</td>\n",
       "      <td>ND</td>\n",
       "      <td>ND</td>\n",
       "      <td>ND</td>\n",
       "      <td>ND</td>\n",
       "      <td>ND</td>\n",
       "      <td>False</td>\n",
       "      <td>ND</td>\n",
       "      <td>1.0</td>\n",
       "    </tr>\n",
       "    <tr>\n",
       "      <th>2</th>\n",
       "      <td>Cc1ncc(COP(=O)(O)O)c(N=O)c1O</td>\n",
       "      <td>DE2408</td>\n",
       "      <td>1.10</td>\n",
       "      <td>248.02</td>\n",
       "      <td>8</td>\n",
       "      <td>3</td>\n",
       "      <td>4</td>\n",
       "      <td>129.31</td>\n",
       "      <td>0.54</td>\n",
       "      <td>3.31</td>\n",
       "      <td>DE10</td>\n",
       "      <td>NS17</td>\n",
       "      <td>ND</td>\n",
       "      <td>ND</td>\n",
       "      <td>ND</td>\n",
       "      <td>ND</td>\n",
       "      <td>ND</td>\n",
       "      <td>False</td>\n",
       "      <td>ND</td>\n",
       "      <td>1.0</td>\n",
       "    </tr>\n",
       "    <tr>\n",
       "      <th>3</th>\n",
       "      <td>Cc1ncc(CCP(=O)(O)O)c(C=O)c1O</td>\n",
       "      <td>DE2409</td>\n",
       "      <td>0.63</td>\n",
       "      <td>245.05</td>\n",
       "      <td>6</td>\n",
       "      <td>3</td>\n",
       "      <td>4</td>\n",
       "      <td>107.72</td>\n",
       "      <td>0.53</td>\n",
       "      <td>3.11</td>\n",
       "      <td>DE10</td>\n",
       "      <td>NS40</td>\n",
       "      <td>ND</td>\n",
       "      <td>ND</td>\n",
       "      <td>50336044</td>\n",
       "      <td>CHEMBL3427368</td>\n",
       "      <td>ND</td>\n",
       "      <td>False</td>\n",
       "      <td>ND</td>\n",
       "      <td>1.0</td>\n",
       "    </tr>\n",
       "    <tr>\n",
       "      <th>4</th>\n",
       "      <td>Cc1ncc(C(O)OP(=O)(O)O)c(C=O)c1O</td>\n",
       "      <td>DE2410</td>\n",
       "      <td>0.01</td>\n",
       "      <td>263.02</td>\n",
       "      <td>8</td>\n",
       "      <td>4</td>\n",
       "      <td>4</td>\n",
       "      <td>137.18</td>\n",
       "      <td>0.34</td>\n",
       "      <td>3.78</td>\n",
       "      <td>DE10</td>\n",
       "      <td>NS55</td>\n",
       "      <td>ND</td>\n",
       "      <td>ND</td>\n",
       "      <td>ND</td>\n",
       "      <td>ND</td>\n",
       "      <td>ND</td>\n",
       "      <td>False</td>\n",
       "      <td>ND</td>\n",
       "      <td>1.0</td>\n",
       "    </tr>\n",
       "  </tbody>\n",
       "</table>\n",
       "</div>"
      ],
      "text/plain": [
       "                            smiles   de_id  logp      mw  h_a  h_d  r_b  \\\n",
       "0   O=Cc1ncc(COP(=O)(O)O)c(C=O)c1O  DE2406  0.02  261.00    8    3    5   \n",
       "1    CCc1ncc(COP(=O)(O)O)c(C=O)c1O  DE2407  0.77  261.04    7    3    5   \n",
       "2     Cc1ncc(COP(=O)(O)O)c(N=O)c1O  DE2408  1.10  248.02    8    3    4   \n",
       "3     Cc1ncc(CCP(=O)(O)O)c(C=O)c1O  DE2409  0.63  245.05    6    3    4   \n",
       "4  Cc1ncc(C(O)OP(=O)(O)O)c(C=O)c1O  DE2410  0.01  263.02    8    4    4   \n",
       "\n",
       "     tpas   qed  sascore parents_id ns_id pdb_id drugbank_id bindingdb_id  \\\n",
       "0  134.02  0.50     3.35       DE10   NS4     ND          ND           ND   \n",
       "1  116.95  0.53     3.13       DE10  NS15     ND          ND           ND   \n",
       "2  129.31  0.54     3.31       DE10  NS17     ND          ND           ND   \n",
       "3  107.72  0.53     3.11       DE10  NS40     ND          ND     50336044   \n",
       "4  137.18  0.34     3.78       DE10  NS55     ND          ND           ND   \n",
       "\n",
       "       chembl_id ccdc_id  pains surechembl_id  novelty  \n",
       "0             ND      ND  False            ND      1.0  \n",
       "1             ND      ND  False            ND      1.0  \n",
       "2             ND      ND  False            ND      1.0  \n",
       "3  CHEMBL3427368      ND  False            ND      1.0  \n",
       "4             ND      ND  False            ND      1.0  "
      ]
     },
     "metadata": {},
     "output_type": "display_data"
    }
   ],
   "source": [
    "# --- Создание Dask DataFrame ---\n",
    "ddf = dd.read_csv(UNPACKED_FILE, sep='\\t')\n",
    "\n",
    "# --- Более надежная функция для очистки ---\n",
    "def clean_col_name(name):\n",
    "    # Приводим к нижнему регистру\n",
    "    new_name = name.lower()\n",
    "    # Заменяем пробелы и другие нежелательные символы на _\n",
    "    new_name = re.sub(r'[\\s\\(\\)-]+', '_', new_name)\n",
    "    # Удаляем лишние _ в конце, если они появились\n",
    "    new_name = new_name.strip('_')\n",
    "    return new_name\n",
    "\n",
    "# 1. Получаем текущие имена колонок\n",
    "current_columns = ddf.columns\n",
    "\n",
    "# 2. Создаем новые, очищенные имена\n",
    "cleaned_columns = [clean_col_name(col) for col in current_columns]\n",
    "\n",
    "# 3. Создаем словарь для переименования {старое_имя: новое_имя}\n",
    "rename_dict = dict(zip(current_columns, cleaned_columns))\n",
    "\n",
    "# 4. Применяем переименование\n",
    "ddf = ddf.rename(columns=rename_dict)\n",
    "\n",
    "print(\"Колонки после очистки через .rename():\")\n",
    "display(ddf.head())\n"
   ]
  },
  {
   "cell_type": "code",
   "execution_count": 7,
   "metadata": {},
   "outputs": [
    {
     "name": "stdout",
     "output_type": "stream",
     "text": [
      "\n",
      "сохранение в Parquet в директорию drugspacex_sample.parquet.dask...\n",
      "Сохранение в Parquet завершено за 3.91 сек.\n"
     ]
    }
   ],
   "source": [
    "\n",
    "# --- Сохранение в Parquet (быстрый шаг) ---\n",
    "print(f\"\\nсохранение в Parquet в директорию {PARQUET_DIR.name}...\")\n",
    "start_time_parquet = time.time()\n",
    "ddf.to_parquet(PARQUET_DIR, engine='pyarrow', compression='snappy', write_index=False, compute=True, overwrite=True)\n",
    "total_time_parquet = time.time() - start_time_parquet\n",
    "print(f\"Сохранение в Parquet завершено за {total_time_parquet:.2f} сек.\")"
   ]
  },
  {
   "cell_type": "markdown",
   "metadata": {},
   "source": [
    "## 5. Анализ и Визуализация №1: Размер на диске\n",
    "\n",
    "размер CSV принимается за 100%."
   ]
  },
  {
   "cell_type": "code",
   "execution_count": 5,
   "metadata": {},
   "outputs": [
    {
     "data": {
      "image/png": "[encoded data removed]",
      "text/plain": [
       "<Figure size 800x400 with 1 Axes>"
      ]
     },
     "metadata": {},
     "output_type": "display_data"
    }
   ],
   "source": [
    "def get_dir_size_mb(path):\n",
    "    try:\n",
    "        total = sum(f.stat().st_size for f in Path(path).glob('**/*') if f.is_file())\n",
    "        return total / (1024 * 1024)\n",
    "    except FileNotFoundError: return 0\n",
    "\n",
    "def get_file_size_mb(path):\n",
    "    try:\n",
    "        return path.stat().st_size / (1024 * 1024)\n",
    "    except FileNotFoundError: return 0\n",
    "\n",
    "packed_size = get_file_size_mb(ARCHIVE_FILE)\n",
    "unpacked = get_file_size_mb(UNPACKED_FILE)\n",
    "parquet_total_size = get_dir_size_mb(PARQUET_DIR)\n",
    "\n",
    "reference_size = unpacked\n",
    "labels = ['CSV (Референс)', 'Parquet', '.gz']\n",
    "values = [unpacked, parquet_total_size, packed_size]\n",
    "percentages = [(v / reference_size) * 100 for v in values]\n",
    "\n",
    "plt.style.use('seaborn-v0_8-whitegrid')\n",
    "fig, ax = plt.subplots(figsize=(8, 4))\n",
    "colors = ['grey', 'mediumseagreen', 'skyblue']\n",
    "bars = ax.bar(labels, values, color=colors, edgecolor='black', linewidth=1.5)\n",
    "\n",
    "for i, bar in enumerate(bars):\n",
    "    height = bar.get_height()\n",
    "    label_text = f'{values[i]:.1f} МБ\\n({percentages[i]:.0f}%)'\n",
    "    ax.text(bar.get_x() + bar.get_width() / 2.0, height, label_text, ha='center', va='bottom', fontsize=11, weight='bold')\n",
    "\n",
    "ax.set_title('Эффективность хранения', fontsize=18, weight='bold', pad=20)\n",
    "ax.set_ylabel('Размер (МБ)', fontsize=14)\n",
    "ax.tick_params(axis='x', which='major', pad=15, labelsize=12)\n",
    "ax.spines['top'].set_visible(False); ax.spines['right'].set_visible(False)\n",
    "ax.set_ylim(0, max(values) * 1.15)\n",
    "plt.tight_layout()\n",
    "plt.show()"
   ]
  },
  {
   "cell_type": "markdown",
   "metadata": {},
   "source": [
    "## 6. Анализ и Визуализация №2: Производительность и Память\n",
    "\n",
    "`Parquet` vs `CSV`"
   ]
  },
  {
   "cell_type": "code",
   "execution_count": 11,
   "metadata": {},
   "outputs": [
    {
     "name": "stdout",
     "output_type": "stream",
     "text": [
      "<class 'dask.dataframe.dask_expr.DataFrame'>\n",
      "Columns: 20 entries, smiles to novelty\n",
      "dtypes: bool(1), float64(6), int64(3), string(10)"
     ]
    }
   ],
   "source": [
    "ddf.info()"
   ]
  },
  {
   "cell_type": "code",
   "execution_count": 14,
   "metadata": {},
   "outputs": [
    {
     "data": {
      "text/plain": [
       "937230"
      ]
     },
     "execution_count": 14,
     "metadata": {},
     "output_type": "execute_result"
    }
   ],
   "source": [
    "len(ddf.smiles)"
   ]
  },
  {
   "cell_type": "code",
   "execution_count": 6,
   "metadata": {},
   "outputs": [
    {
     "data": {
      "text/plain": [
       "Index(['smiles', 'de_id', 'logp', 'mw', 'h_a', 'h_d', 'r_b', 'tpas', 'qed',\n",
       "       'sascore', 'parents_id', 'ns_id', 'pdb_id', 'drugbank_id',\n",
       "       'bindingdb_id', 'chembl_id', 'ccdc_id', 'pains', 'surechembl_id',\n",
       "       'novelty'],\n",
       "      dtype='object')"
      ]
     },
     "execution_count": 6,
     "metadata": {},
     "output_type": "execute_result"
    }
   ],
   "source": [
    "ddf.columns"
   ]
  },
  {
   "cell_type": "code",
   "execution_count": 7,
   "metadata": {},
   "outputs": [
    {
     "name": "stdout",
     "output_type": "stream",
     "text": [
      "492\n"
     ]
    }
   ],
   "source": [
    "# Задача\n",
    "unique_count_task = ddf['drugbank_id'].nunique()\n",
    "\n",
    "# Вычисление\n",
    "unique_count = unique_count_task.compute()\n",
    "print(unique_count)"
   ]
  },
  {
   "cell_type": "markdown",
   "metadata": {},
   "source": [
    "## 7. Финальные выводы\n"
   ]
  }
 ],
 "metadata": {
  "kernelspec": {
   "display_name": "xformer-py3.11",
   "language": "python",
   "name": "python3"
  },
  "language_info": {
   "codemirror_mode": {
    "name": "ipython",
    "version": 3
   },
   "file_extension": ".py",
   "mimetype": "text/x-python",
   "name": "python",
   "nbconvert_exporter": "python",
   "pygments_lexer": "ipython3",
   "version": "3.11.13"
  }
 },
 "nbformat": 4,
 "nbformat_minor": 4
}
